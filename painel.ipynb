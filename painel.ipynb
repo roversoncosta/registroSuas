{
 "cells": [
  {
   "cell_type": "code",
   "execution_count": 1,
   "metadata": {},
   "outputs": [],
   "source": [
    "import pandas as pd\n",
    "import plotly.graph_objects as go\n",
    "import plotly.io as pio\n",
    "import plotly.express as px\n",
    "from datetime import datetime\n",
    "from datetime import date"
   ]
  },
  {
   "cell_type": "code",
   "execution_count": 2,
   "metadata": {},
   "outputs": [],
   "source": [
    "import pandas as pd\n",
    "df = pd.read_csv('painel_acoes.csv')\n",
    "df.data_acao = pd.to_datetime(df.data_acao)"
   ]
  },
  {
   "cell_type": "code",
   "execution_count": 3,
   "metadata": {},
   "outputs": [
    {
     "data": {
      "text/html": [
       "<div>\n",
       "<style scoped>\n",
       "    .dataframe tbody tr th:only-of-type {\n",
       "        vertical-align: middle;\n",
       "    }\n",
       "\n",
       "    .dataframe tbody tr th {\n",
       "        vertical-align: top;\n",
       "    }\n",
       "\n",
       "    .dataframe thead th {\n",
       "        text-align: right;\n",
       "    }\n",
       "</style>\n",
       "<table border=\"1\" class=\"dataframe\">\n",
       "  <thead>\n",
       "    <tr style=\"text-align: right;\">\n",
       "      <th></th>\n",
       "      <th>id</th>\n",
       "      <th>user_id</th>\n",
       "      <th>acao_realizada</th>\n",
       "      <th>caracteristica_acao</th>\n",
       "      <th>n_profissionais_atendidos</th>\n",
       "      <th>descricao_acao</th>\n",
       "      <th>data_acao</th>\n",
       "      <th>data_publicacao</th>\n",
       "      <th>municipio_atendido</th>\n",
       "      <th>n_mes_acao</th>\n",
       "      <th>mes_acao</th>\n",
       "      <th>ano_acao</th>\n",
       "    </tr>\n",
       "  </thead>\n",
       "  <tbody>\n",
       "    <tr>\n",
       "      <th>0</th>\n",
       "      <td>3523</td>\n",
       "      <td>26</td>\n",
       "      <td>Apoio Técnico Não Presencial (ATNP)</td>\n",
       "      <td>E-mails, telefonemas e mensagens</td>\n",
       "      <td>1</td>\n",
       "      <td>Censo SUAS - Orientação a CEAS quanto ao preen...</td>\n",
       "      <td>2022-12-12</td>\n",
       "      <td>2022-12-27</td>\n",
       "      <td>*Não se aplica</td>\n",
       "      <td>12</td>\n",
       "      <td>Dez</td>\n",
       "      <td>2022</td>\n",
       "    </tr>\n",
       "    <tr>\n",
       "      <th>1</th>\n",
       "      <td>3524</td>\n",
       "      <td>26</td>\n",
       "      <td>Apoio Técnico Não Presencial (ATNP)</td>\n",
       "      <td>E-mails, telefonemas e mensagens</td>\n",
       "      <td>1</td>\n",
       "      <td>PLANO DE AÇÃO - CORREÇÃO DE INFORMAÇÃO PELA GE...</td>\n",
       "      <td>2022-12-07</td>\n",
       "      <td>2022-12-27</td>\n",
       "      <td>Vera</td>\n",
       "      <td>12</td>\n",
       "      <td>Dez</td>\n",
       "      <td>2022</td>\n",
       "    </tr>\n",
       "    <tr>\n",
       "      <th>2</th>\n",
       "      <td>3525</td>\n",
       "      <td>26</td>\n",
       "      <td>Apoio Técnico Não Presencial (ATNP)</td>\n",
       "      <td>E-mails, telefonemas e mensagens</td>\n",
       "      <td>1</td>\n",
       "      <td>EXCLUSÃO DE UNIDADES</td>\n",
       "      <td>2022-12-07</td>\n",
       "      <td>2022-12-27</td>\n",
       "      <td>São Félix do Araguaia</td>\n",
       "      <td>12</td>\n",
       "      <td>Dez</td>\n",
       "      <td>2022</td>\n",
       "    </tr>\n",
       "    <tr>\n",
       "      <th>3</th>\n",
       "      <td>3599</td>\n",
       "      <td>26</td>\n",
       "      <td>Apoio Técnico Não Presencial (ATNP)</td>\n",
       "      <td>E-mails, telefonemas e mensagens</td>\n",
       "      <td>1</td>\n",
       "      <td>RESGSITRA SUAS - FORMULARIOS A SEREM PREENCHIDOS</td>\n",
       "      <td>2022-11-24</td>\n",
       "      <td>2022-12-27</td>\n",
       "      <td>Nova Brasilândia</td>\n",
       "      <td>11</td>\n",
       "      <td>Nov</td>\n",
       "      <td>2022</td>\n",
       "    </tr>\n",
       "    <tr>\n",
       "      <th>4</th>\n",
       "      <td>3596</td>\n",
       "      <td>26</td>\n",
       "      <td>Apoio Técnico Não Presencial (ATNP)</td>\n",
       "      <td>E-mails, telefonemas e mensagens</td>\n",
       "      <td>1</td>\n",
       "      <td>REGISTRA SUAS - PREENCHIMENTO SOBRE ACOLHIMENTO</td>\n",
       "      <td>2022-11-24</td>\n",
       "      <td>2022-12-27</td>\n",
       "      <td>Sorriso</td>\n",
       "      <td>11</td>\n",
       "      <td>Nov</td>\n",
       "      <td>2022</td>\n",
       "    </tr>\n",
       "    <tr>\n",
       "      <th>...</th>\n",
       "      <td>...</td>\n",
       "      <td>...</td>\n",
       "      <td>...</td>\n",
       "      <td>...</td>\n",
       "      <td>...</td>\n",
       "      <td>...</td>\n",
       "      <td>...</td>\n",
       "      <td>...</td>\n",
       "      <td>...</td>\n",
       "      <td>...</td>\n",
       "      <td>...</td>\n",
       "      <td>...</td>\n",
       "    </tr>\n",
       "    <tr>\n",
       "      <th>101</th>\n",
       "      <td>1996</td>\n",
       "      <td>26</td>\n",
       "      <td>Apoio Técnico Não Presencial (ATNP)</td>\n",
       "      <td>E-mails, telefonemas e mensagens</td>\n",
       "      <td>0</td>\n",
       "      <td>CENSOSUAS 2021</td>\n",
       "      <td>2022-01-07</td>\n",
       "      <td>2022-12-27</td>\n",
       "      <td>Ipiranga do Norte</td>\n",
       "      <td>1</td>\n",
       "      <td>Jan</td>\n",
       "      <td>2022</td>\n",
       "    </tr>\n",
       "    <tr>\n",
       "      <th>102</th>\n",
       "      <td>1997</td>\n",
       "      <td>26</td>\n",
       "      <td>Apoio Técnico Não Presencial (ATNP)</td>\n",
       "      <td>E-mails, telefonemas e mensagens</td>\n",
       "      <td>0</td>\n",
       "      <td>Orientações sobre o RA 2021</td>\n",
       "      <td>2022-01-07</td>\n",
       "      <td>2022-12-27</td>\n",
       "      <td>Barra do Garças</td>\n",
       "      <td>1</td>\n",
       "      <td>Jan</td>\n",
       "      <td>2022</td>\n",
       "    </tr>\n",
       "    <tr>\n",
       "      <th>103</th>\n",
       "      <td>1998</td>\n",
       "      <td>26</td>\n",
       "      <td>Apoio Técnico Não Presencial (ATNP)</td>\n",
       "      <td>E-mails, telefonemas e mensagens</td>\n",
       "      <td>0</td>\n",
       "      <td>Acesso ao RA 2021</td>\n",
       "      <td>2022-01-06</td>\n",
       "      <td>2022-12-27</td>\n",
       "      <td>Castanheira</td>\n",
       "      <td>1</td>\n",
       "      <td>Jan</td>\n",
       "      <td>2022</td>\n",
       "    </tr>\n",
       "    <tr>\n",
       "      <th>104</th>\n",
       "      <td>1999</td>\n",
       "      <td>26</td>\n",
       "      <td>Apoio Técnico Não Presencial (ATNP)</td>\n",
       "      <td>E-mails, telefonemas e mensagens</td>\n",
       "      <td>0</td>\n",
       "      <td>Utilização do Prontuário SUAS no município</td>\n",
       "      <td>2022-01-06</td>\n",
       "      <td>2022-12-27</td>\n",
       "      <td>Sinop</td>\n",
       "      <td>1</td>\n",
       "      <td>Jan</td>\n",
       "      <td>2022</td>\n",
       "    </tr>\n",
       "    <tr>\n",
       "      <th>105</th>\n",
       "      <td>2000</td>\n",
       "      <td>26</td>\n",
       "      <td>Apoio Técnico Não Presencial (ATNP)</td>\n",
       "      <td>E-mails, telefonemas e mensagens</td>\n",
       "      <td>0</td>\n",
       "      <td>Preenchimento do Censo SUAS 2021</td>\n",
       "      <td>2022-01-06</td>\n",
       "      <td>2022-12-27</td>\n",
       "      <td>Pedra Preta</td>\n",
       "      <td>1</td>\n",
       "      <td>Jan</td>\n",
       "      <td>2022</td>\n",
       "    </tr>\n",
       "  </tbody>\n",
       "</table>\n",
       "<p>106 rows × 12 columns</p>\n",
       "</div>"
      ],
      "text/plain": [
       "       id  user_id                       acao_realizada  \\\n",
       "0    3523       26  Apoio Técnico Não Presencial (ATNP)   \n",
       "1    3524       26  Apoio Técnico Não Presencial (ATNP)   \n",
       "2    3525       26  Apoio Técnico Não Presencial (ATNP)   \n",
       "3    3599       26  Apoio Técnico Não Presencial (ATNP)   \n",
       "4    3596       26  Apoio Técnico Não Presencial (ATNP)   \n",
       "..    ...      ...                                  ...   \n",
       "101  1996       26  Apoio Técnico Não Presencial (ATNP)   \n",
       "102  1997       26  Apoio Técnico Não Presencial (ATNP)   \n",
       "103  1998       26  Apoio Técnico Não Presencial (ATNP)   \n",
       "104  1999       26  Apoio Técnico Não Presencial (ATNP)   \n",
       "105  2000       26  Apoio Técnico Não Presencial (ATNP)   \n",
       "\n",
       "                  caracteristica_acao  n_profissionais_atendidos  \\\n",
       "0    E-mails, telefonemas e mensagens                          1   \n",
       "1    E-mails, telefonemas e mensagens                          1   \n",
       "2    E-mails, telefonemas e mensagens                          1   \n",
       "3    E-mails, telefonemas e mensagens                          1   \n",
       "4    E-mails, telefonemas e mensagens                          1   \n",
       "..                                ...                        ...   \n",
       "101  E-mails, telefonemas e mensagens                          0   \n",
       "102  E-mails, telefonemas e mensagens                          0   \n",
       "103  E-mails, telefonemas e mensagens                          0   \n",
       "104  E-mails, telefonemas e mensagens                          0   \n",
       "105  E-mails, telefonemas e mensagens                          0   \n",
       "\n",
       "                                        descricao_acao  data_acao  \\\n",
       "0    Censo SUAS - Orientação a CEAS quanto ao preen... 2022-12-12   \n",
       "1    PLANO DE AÇÃO - CORREÇÃO DE INFORMAÇÃO PELA GE... 2022-12-07   \n",
       "2                                 EXCLUSÃO DE UNIDADES 2022-12-07   \n",
       "3    RESGSITRA SUAS - FORMULARIOS A SEREM PREENCHIDOS  2022-11-24   \n",
       "4      REGISTRA SUAS - PREENCHIMENTO SOBRE ACOLHIMENTO 2022-11-24   \n",
       "..                                                 ...        ...   \n",
       "101                                     CENSOSUAS 2021 2022-01-07   \n",
       "102                        Orientações sobre o RA 2021 2022-01-07   \n",
       "103                                  Acesso ao RA 2021 2022-01-06   \n",
       "104         Utilização do Prontuário SUAS no município 2022-01-06   \n",
       "105                   Preenchimento do Censo SUAS 2021 2022-01-06   \n",
       "\n",
       "    data_publicacao     municipio_atendido  n_mes_acao mes_acao  ano_acao  \n",
       "0        2022-12-27         *Não se aplica          12      Dez      2022  \n",
       "1        2022-12-27                   Vera          12      Dez      2022  \n",
       "2        2022-12-27  São Félix do Araguaia          12      Dez      2022  \n",
       "3        2022-12-27       Nova Brasilândia          11      Nov      2022  \n",
       "4        2022-12-27                Sorriso          11      Nov      2022  \n",
       "..              ...                    ...         ...      ...       ...  \n",
       "101      2022-12-27      Ipiranga do Norte           1      Jan      2022  \n",
       "102      2022-12-27        Barra do Garças           1      Jan      2022  \n",
       "103      2022-12-27            Castanheira           1      Jan      2022  \n",
       "104      2022-12-27                  Sinop           1      Jan      2022  \n",
       "105      2022-12-27            Pedra Preta           1      Jan      2022  \n",
       "\n",
       "[106 rows x 12 columns]"
      ]
     },
     "execution_count": 3,
     "metadata": {},
     "output_type": "execute_result"
    }
   ],
   "source": [
    "dic_mes = {1:'Jan',2:'Fev',3:'Mar',4:'Abr',5:'Mai',6:'Jun',7:'Jul',8:'Ago',9:'Set',10:'Out',11:'Nov',12:'Dez'}\n",
    "df['n_mes_acao'] = df['data_acao'].dt.month\n",
    "df['mes_acao'] = df['n_mes_acao'].map(dic_mes)\n",
    "df['ano_acao'] = df['data_acao'].dt.year\n",
    "df"
   ]
  },
  {
   "cell_type": "code",
   "execution_count": 4,
   "metadata": {},
   "outputs": [
    {
     "data": {
      "text/html": [
       "<div>\n",
       "<style scoped>\n",
       "    .dataframe tbody tr th:only-of-type {\n",
       "        vertical-align: middle;\n",
       "    }\n",
       "\n",
       "    .dataframe tbody tr th {\n",
       "        vertical-align: top;\n",
       "    }\n",
       "\n",
       "    .dataframe thead th {\n",
       "        text-align: right;\n",
       "    }\n",
       "</style>\n",
       "<table border=\"1\" class=\"dataframe\">\n",
       "  <thead>\n",
       "    <tr style=\"text-align: right;\">\n",
       "      <th></th>\n",
       "      <th>n_mes_acao</th>\n",
       "      <th>mes_acao</th>\n",
       "      <th>Apoio Técnico Não Presencial (ATNP)</th>\n",
       "      <th>Apoio Técnico Presencial (ATP)</th>\n",
       "      <th>Outras Ações</th>\n",
       "    </tr>\n",
       "  </thead>\n",
       "  <tbody>\n",
       "    <tr>\n",
       "      <th>0</th>\n",
       "      <td>1</td>\n",
       "      <td>Jan</td>\n",
       "      <td>7.0</td>\n",
       "      <td>0.0</td>\n",
       "      <td>0.0</td>\n",
       "    </tr>\n",
       "    <tr>\n",
       "      <th>1</th>\n",
       "      <td>2</td>\n",
       "      <td>Fev</td>\n",
       "      <td>5.0</td>\n",
       "      <td>0.0</td>\n",
       "      <td>0.0</td>\n",
       "    </tr>\n",
       "    <tr>\n",
       "      <th>2</th>\n",
       "      <td>3</td>\n",
       "      <td>Mar</td>\n",
       "      <td>9.0</td>\n",
       "      <td>1.0</td>\n",
       "      <td>0.0</td>\n",
       "    </tr>\n",
       "    <tr>\n",
       "      <th>3</th>\n",
       "      <td>4</td>\n",
       "      <td>Abr</td>\n",
       "      <td>5.0</td>\n",
       "      <td>2.0</td>\n",
       "      <td>0.0</td>\n",
       "    </tr>\n",
       "    <tr>\n",
       "      <th>4</th>\n",
       "      <td>5</td>\n",
       "      <td>Mai</td>\n",
       "      <td>9.0</td>\n",
       "      <td>2.0</td>\n",
       "      <td>0.0</td>\n",
       "    </tr>\n",
       "    <tr>\n",
       "      <th>5</th>\n",
       "      <td>6</td>\n",
       "      <td>Jun</td>\n",
       "      <td>3.0</td>\n",
       "      <td>2.0</td>\n",
       "      <td>0.0</td>\n",
       "    </tr>\n",
       "    <tr>\n",
       "      <th>6</th>\n",
       "      <td>7</td>\n",
       "      <td>Jul</td>\n",
       "      <td>3.0</td>\n",
       "      <td>2.0</td>\n",
       "      <td>0.0</td>\n",
       "    </tr>\n",
       "    <tr>\n",
       "      <th>7</th>\n",
       "      <td>8</td>\n",
       "      <td>Ago</td>\n",
       "      <td>6.0</td>\n",
       "      <td>1.0</td>\n",
       "      <td>1.0</td>\n",
       "    </tr>\n",
       "    <tr>\n",
       "      <th>8</th>\n",
       "      <td>9</td>\n",
       "      <td>Set</td>\n",
       "      <td>2.0</td>\n",
       "      <td>0.0</td>\n",
       "      <td>0.0</td>\n",
       "    </tr>\n",
       "    <tr>\n",
       "      <th>9</th>\n",
       "      <td>10</td>\n",
       "      <td>Out</td>\n",
       "      <td>11.0</td>\n",
       "      <td>0.0</td>\n",
       "      <td>0.0</td>\n",
       "    </tr>\n",
       "    <tr>\n",
       "      <th>10</th>\n",
       "      <td>11</td>\n",
       "      <td>Nov</td>\n",
       "      <td>31.0</td>\n",
       "      <td>1.0</td>\n",
       "      <td>0.0</td>\n",
       "    </tr>\n",
       "    <tr>\n",
       "      <th>11</th>\n",
       "      <td>12</td>\n",
       "      <td>Dez</td>\n",
       "      <td>3.0</td>\n",
       "      <td>0.0</td>\n",
       "      <td>0.0</td>\n",
       "    </tr>\n",
       "  </tbody>\n",
       "</table>\n",
       "</div>"
      ],
      "text/plain": [
       "    n_mes_acao mes_acao  Apoio Técnico Não Presencial (ATNP)  \\\n",
       "0            1      Jan                                  7.0   \n",
       "1            2      Fev                                  5.0   \n",
       "2            3      Mar                                  9.0   \n",
       "3            4      Abr                                  5.0   \n",
       "4            5      Mai                                  9.0   \n",
       "5            6      Jun                                  3.0   \n",
       "6            7      Jul                                  3.0   \n",
       "7            8      Ago                                  6.0   \n",
       "8            9      Set                                  2.0   \n",
       "9           10      Out                                 11.0   \n",
       "10          11      Nov                                 31.0   \n",
       "11          12      Dez                                  3.0   \n",
       "\n",
       "    Apoio Técnico Presencial (ATP)  Outras Ações  \n",
       "0                              0.0           0.0  \n",
       "1                              0.0           0.0  \n",
       "2                              1.0           0.0  \n",
       "3                              2.0           0.0  \n",
       "4                              2.0           0.0  \n",
       "5                              2.0           0.0  \n",
       "6                              2.0           0.0  \n",
       "7                              1.0           1.0  \n",
       "8                              0.0           0.0  \n",
       "9                              0.0           0.0  \n",
       "10                             1.0           0.0  \n",
       "11                             0.0           0.0  "
      ]
     },
     "execution_count": 4,
     "metadata": {},
     "output_type": "execute_result"
    }
   ],
   "source": [
    "g1 = df.groupby(['n_mes_acao','mes_acao','data_acao','acao_realizada']).id.count().unstack().reset_index().rename_axis(None,axis=1).fillna(0)\n",
    "g1 = g1.groupby(['n_mes_acao','mes_acao']).sum().reset_index()\n",
    "g1"
   ]
  },
  {
   "cell_type": "code",
   "execution_count": 214,
   "metadata": {},
   "outputs": [
    {
     "name": "stdout",
     "output_type": "stream",
     "text": [
      "sim\n"
     ]
    }
   ],
   "source": [
    "if 'Outras Ações' in g1.columns:\n",
    "    print('sim')"
   ]
  },
  {
   "cell_type": "code",
   "execution_count": 210,
   "metadata": {},
   "outputs": [
    {
     "data": {
      "application/vnd.plotly.v1+json": {
       "config": {
        "plotlyServerURL": "https://plot.ly"
       },
       "data": [
        {
         "hovertemplate": "%{y:,.0f}",
         "marker": {
          "color": "#F4D03F"
         },
         "name": "ATP",
         "type": "bar",
         "x": [
          "Jan",
          "Fev",
          "Mar",
          "Abr",
          "Mai",
          "Jun",
          "Jul",
          "Ago",
          "Set",
          "Out",
          "Nov",
          "Dez"
         ],
         "y": [
          0,
          0,
          1,
          2,
          2,
          2,
          2,
          1,
          0,
          0,
          1,
          0
         ]
        },
        {
         "hovertemplate": "%{y:,.0f}",
         "marker": {
          "color": "#A569BD"
         },
         "name": "ATNP",
         "type": "bar",
         "x": [
          "Jan",
          "Fev",
          "Mar",
          "Abr",
          "Mai",
          "Jun",
          "Jul",
          "Ago",
          "Set",
          "Out",
          "Nov",
          "Dez"
         ],
         "y": [
          7,
          5,
          9,
          5,
          9,
          3,
          3,
          6,
          2,
          11,
          31,
          3
         ]
        },
        {
         "hovertemplate": "%{y:,.0f}",
         "marker": {
          "color": "#CACFD2"
         },
         "name": "OUTRAS",
         "type": "bar",
         "x": [
          "Jan",
          "Fev",
          "Mar",
          "Abr",
          "Mai",
          "Jun",
          "Jul",
          "Ago",
          "Set",
          "Out",
          "Nov",
          "Dez"
         ],
         "y": [
          0,
          0,
          0,
          0,
          0,
          0,
          0,
          1,
          0,
          0,
          0,
          0
         ]
        }
       ],
       "layout": {
        "autosize": true,
        "legend": {
         "font": {
          "size": 12
         },
         "orientation": "h",
         "x": 1,
         "xanchor": "right",
         "y": 1,
         "yanchor": "bottom"
        },
        "template": {},
        "title": {}
       }
      }
     },
     "metadata": {},
     "output_type": "display_data"
    }
   ],
   "source": [
    "fig1 = go.Figure()\n",
    "fig1.add_trace(go.Bar(x=g1.mes_acao,  # index por que? porque o index é a 'date'\n",
    "                        y=g1['Apoio Técnico Presencial (ATP)'],\n",
    "                        marker_color='#F4D03F',\n",
    "                        name='ATP',\n",
    "                        hovertemplate='%{y:,.0f}'\n",
    "                        ))\n",
    "fig1.add_trace(go.Bar(x=g1.mes_acao,\n",
    "                            y=g1['Apoio Técnico Não Presencial (ATNP)'],\n",
    "                            marker_color='#A569BD',\n",
    "                            name='ATNP',\n",
    "                            hovertemplate='%{y:,.0f}'\n",
    "                            ))\n",
    "fig1.add_trace(go.Bar(x=g1.mes_acao,\n",
    "                            y=g1['Outras Ações'],\n",
    "                            marker_color='#CACFD2',\n",
    "                            name='OUTRAS',\n",
    "                            hovertemplate='%{y:,.0f}'\n",
    "                            ))\n",
    "\n",
    "fig1.update_layout(template=None, autosize=True, title=None,\n",
    "                    legend=dict(\n",
    "                        orientation=\"h\",\n",
    "                        yanchor=\"bottom\",\n",
    "                        y=1.0,\n",
    "                        xanchor=\"right\",\n",
    "                        x=1,\n",
    "                        font=dict(size=12)))"
   ]
  },
  {
   "cell_type": "code",
   "execution_count": 71,
   "metadata": {},
   "outputs": [
    {
     "data": {
      "text/plain": [
       "Index(['Apoio Técnico Não Presencial (ATNP)', 'Apoio Técnico Presencial (ATP)',\n",
       "       'Outras Ações'],\n",
       "      dtype='object')"
      ]
     },
     "execution_count": 71,
     "metadata": {},
     "output_type": "execute_result"
    }
   ],
   "source": [
    "df.acao_realizada.value_counts().index"
   ]
  },
  {
   "cell_type": "code",
   "execution_count": 6,
   "metadata": {},
   "outputs": [
    {
     "data": {
      "application/vnd.plotly.v1+json": {
       "config": {
        "plotlyServerURL": "https://plot.ly"
       },
       "data": [
        {
         "hole": 0.3,
         "labels": [
          "Apoio Técnico Não Presencial (ATNP)",
          "Apoio Técnico Presencial (ATP)",
          "Outras Ações"
         ],
         "textinfo": "percent",
         "type": "pie",
         "values": [
          94,
          11,
          1
         ]
        }
       ],
       "layout": {
        "template": {
         "data": {
          "bar": [
           {
            "error_x": {
             "color": "#2a3f5f"
            },
            "error_y": {
             "color": "#2a3f5f"
            },
            "marker": {
             "line": {
              "color": "#E5ECF6",
              "width": 0.5
             },
             "pattern": {
              "fillmode": "overlay",
              "size": 10,
              "solidity": 0.2
             }
            },
            "type": "bar"
           }
          ],
          "barpolar": [
           {
            "marker": {
             "line": {
              "color": "#E5ECF6",
              "width": 0.5
             },
             "pattern": {
              "fillmode": "overlay",
              "size": 10,
              "solidity": 0.2
             }
            },
            "type": "barpolar"
           }
          ],
          "carpet": [
           {
            "aaxis": {
             "endlinecolor": "#2a3f5f",
             "gridcolor": "white",
             "linecolor": "white",
             "minorgridcolor": "white",
             "startlinecolor": "#2a3f5f"
            },
            "baxis": {
             "endlinecolor": "#2a3f5f",
             "gridcolor": "white",
             "linecolor": "white",
             "minorgridcolor": "white",
             "startlinecolor": "#2a3f5f"
            },
            "type": "carpet"
           }
          ],
          "choropleth": [
           {
            "colorbar": {
             "outlinewidth": 0,
             "ticks": ""
            },
            "type": "choropleth"
           }
          ],
          "contour": [
           {
            "colorbar": {
             "outlinewidth": 0,
             "ticks": ""
            },
            "colorscale": [
             [
              0,
              "#0d0887"
             ],
             [
              0.1111111111111111,
              "#46039f"
             ],
             [
              0.2222222222222222,
              "#7201a8"
             ],
             [
              0.3333333333333333,
              "#9c179e"
             ],
             [
              0.4444444444444444,
              "#bd3786"
             ],
             [
              0.5555555555555556,
              "#d8576b"
             ],
             [
              0.6666666666666666,
              "#ed7953"
             ],
             [
              0.7777777777777778,
              "#fb9f3a"
             ],
             [
              0.8888888888888888,
              "#fdca26"
             ],
             [
              1,
              "#f0f921"
             ]
            ],
            "type": "contour"
           }
          ],
          "contourcarpet": [
           {
            "colorbar": {
             "outlinewidth": 0,
             "ticks": ""
            },
            "type": "contourcarpet"
           }
          ],
          "heatmap": [
           {
            "colorbar": {
             "outlinewidth": 0,
             "ticks": ""
            },
            "colorscale": [
             [
              0,
              "#0d0887"
             ],
             [
              0.1111111111111111,
              "#46039f"
             ],
             [
              0.2222222222222222,
              "#7201a8"
             ],
             [
              0.3333333333333333,
              "#9c179e"
             ],
             [
              0.4444444444444444,
              "#bd3786"
             ],
             [
              0.5555555555555556,
              "#d8576b"
             ],
             [
              0.6666666666666666,
              "#ed7953"
             ],
             [
              0.7777777777777778,
              "#fb9f3a"
             ],
             [
              0.8888888888888888,
              "#fdca26"
             ],
             [
              1,
              "#f0f921"
             ]
            ],
            "type": "heatmap"
           }
          ],
          "heatmapgl": [
           {
            "colorbar": {
             "outlinewidth": 0,
             "ticks": ""
            },
            "colorscale": [
             [
              0,
              "#0d0887"
             ],
             [
              0.1111111111111111,
              "#46039f"
             ],
             [
              0.2222222222222222,
              "#7201a8"
             ],
             [
              0.3333333333333333,
              "#9c179e"
             ],
             [
              0.4444444444444444,
              "#bd3786"
             ],
             [
              0.5555555555555556,
              "#d8576b"
             ],
             [
              0.6666666666666666,
              "#ed7953"
             ],
             [
              0.7777777777777778,
              "#fb9f3a"
             ],
             [
              0.8888888888888888,
              "#fdca26"
             ],
             [
              1,
              "#f0f921"
             ]
            ],
            "type": "heatmapgl"
           }
          ],
          "histogram": [
           {
            "marker": {
             "pattern": {
              "fillmode": "overlay",
              "size": 10,
              "solidity": 0.2
             }
            },
            "type": "histogram"
           }
          ],
          "histogram2d": [
           {
            "colorbar": {
             "outlinewidth": 0,
             "ticks": ""
            },
            "colorscale": [
             [
              0,
              "#0d0887"
             ],
             [
              0.1111111111111111,
              "#46039f"
             ],
             [
              0.2222222222222222,
              "#7201a8"
             ],
             [
              0.3333333333333333,
              "#9c179e"
             ],
             [
              0.4444444444444444,
              "#bd3786"
             ],
             [
              0.5555555555555556,
              "#d8576b"
             ],
             [
              0.6666666666666666,
              "#ed7953"
             ],
             [
              0.7777777777777778,
              "#fb9f3a"
             ],
             [
              0.8888888888888888,
              "#fdca26"
             ],
             [
              1,
              "#f0f921"
             ]
            ],
            "type": "histogram2d"
           }
          ],
          "histogram2dcontour": [
           {
            "colorbar": {
             "outlinewidth": 0,
             "ticks": ""
            },
            "colorscale": [
             [
              0,
              "#0d0887"
             ],
             [
              0.1111111111111111,
              "#46039f"
             ],
             [
              0.2222222222222222,
              "#7201a8"
             ],
             [
              0.3333333333333333,
              "#9c179e"
             ],
             [
              0.4444444444444444,
              "#bd3786"
             ],
             [
              0.5555555555555556,
              "#d8576b"
             ],
             [
              0.6666666666666666,
              "#ed7953"
             ],
             [
              0.7777777777777778,
              "#fb9f3a"
             ],
             [
              0.8888888888888888,
              "#fdca26"
             ],
             [
              1,
              "#f0f921"
             ]
            ],
            "type": "histogram2dcontour"
           }
          ],
          "mesh3d": [
           {
            "colorbar": {
             "outlinewidth": 0,
             "ticks": ""
            },
            "type": "mesh3d"
           }
          ],
          "parcoords": [
           {
            "line": {
             "colorbar": {
              "outlinewidth": 0,
              "ticks": ""
             }
            },
            "type": "parcoords"
           }
          ],
          "pie": [
           {
            "automargin": true,
            "type": "pie"
           }
          ],
          "scatter": [
           {
            "marker": {
             "colorbar": {
              "outlinewidth": 0,
              "ticks": ""
             }
            },
            "type": "scatter"
           }
          ],
          "scatter3d": [
           {
            "line": {
             "colorbar": {
              "outlinewidth": 0,
              "ticks": ""
             }
            },
            "marker": {
             "colorbar": {
              "outlinewidth": 0,
              "ticks": ""
             }
            },
            "type": "scatter3d"
           }
          ],
          "scattercarpet": [
           {
            "marker": {
             "colorbar": {
              "outlinewidth": 0,
              "ticks": ""
             }
            },
            "type": "scattercarpet"
           }
          ],
          "scattergeo": [
           {
            "marker": {
             "colorbar": {
              "outlinewidth": 0,
              "ticks": ""
             }
            },
            "type": "scattergeo"
           }
          ],
          "scattergl": [
           {
            "marker": {
             "colorbar": {
              "outlinewidth": 0,
              "ticks": ""
             }
            },
            "type": "scattergl"
           }
          ],
          "scattermapbox": [
           {
            "marker": {
             "colorbar": {
              "outlinewidth": 0,
              "ticks": ""
             }
            },
            "type": "scattermapbox"
           }
          ],
          "scatterpolar": [
           {
            "marker": {
             "colorbar": {
              "outlinewidth": 0,
              "ticks": ""
             }
            },
            "type": "scatterpolar"
           }
          ],
          "scatterpolargl": [
           {
            "marker": {
             "colorbar": {
              "outlinewidth": 0,
              "ticks": ""
             }
            },
            "type": "scatterpolargl"
           }
          ],
          "scatterternary": [
           {
            "marker": {
             "colorbar": {
              "outlinewidth": 0,
              "ticks": ""
             }
            },
            "type": "scatterternary"
           }
          ],
          "surface": [
           {
            "colorbar": {
             "outlinewidth": 0,
             "ticks": ""
            },
            "colorscale": [
             [
              0,
              "#0d0887"
             ],
             [
              0.1111111111111111,
              "#46039f"
             ],
             [
              0.2222222222222222,
              "#7201a8"
             ],
             [
              0.3333333333333333,
              "#9c179e"
             ],
             [
              0.4444444444444444,
              "#bd3786"
             ],
             [
              0.5555555555555556,
              "#d8576b"
             ],
             [
              0.6666666666666666,
              "#ed7953"
             ],
             [
              0.7777777777777778,
              "#fb9f3a"
             ],
             [
              0.8888888888888888,
              "#fdca26"
             ],
             [
              1,
              "#f0f921"
             ]
            ],
            "type": "surface"
           }
          ],
          "table": [
           {
            "cells": {
             "fill": {
              "color": "#EBF0F8"
             },
             "line": {
              "color": "white"
             }
            },
            "header": {
             "fill": {
              "color": "#C8D4E3"
             },
             "line": {
              "color": "white"
             }
            },
            "type": "table"
           }
          ]
         },
         "layout": {
          "annotationdefaults": {
           "arrowcolor": "#2a3f5f",
           "arrowhead": 0,
           "arrowwidth": 1
          },
          "autotypenumbers": "strict",
          "coloraxis": {
           "colorbar": {
            "outlinewidth": 0,
            "ticks": ""
           }
          },
          "colorscale": {
           "diverging": [
            [
             0,
             "#8e0152"
            ],
            [
             0.1,
             "#c51b7d"
            ],
            [
             0.2,
             "#de77ae"
            ],
            [
             0.3,
             "#f1b6da"
            ],
            [
             0.4,
             "#fde0ef"
            ],
            [
             0.5,
             "#f7f7f7"
            ],
            [
             0.6,
             "#e6f5d0"
            ],
            [
             0.7,
             "#b8e186"
            ],
            [
             0.8,
             "#7fbc41"
            ],
            [
             0.9,
             "#4d9221"
            ],
            [
             1,
             "#276419"
            ]
           ],
           "sequential": [
            [
             0,
             "#0d0887"
            ],
            [
             0.1111111111111111,
             "#46039f"
            ],
            [
             0.2222222222222222,
             "#7201a8"
            ],
            [
             0.3333333333333333,
             "#9c179e"
            ],
            [
             0.4444444444444444,
             "#bd3786"
            ],
            [
             0.5555555555555556,
             "#d8576b"
            ],
            [
             0.6666666666666666,
             "#ed7953"
            ],
            [
             0.7777777777777778,
             "#fb9f3a"
            ],
            [
             0.8888888888888888,
             "#fdca26"
            ],
            [
             1,
             "#f0f921"
            ]
           ],
           "sequentialminus": [
            [
             0,
             "#0d0887"
            ],
            [
             0.1111111111111111,
             "#46039f"
            ],
            [
             0.2222222222222222,
             "#7201a8"
            ],
            [
             0.3333333333333333,
             "#9c179e"
            ],
            [
             0.4444444444444444,
             "#bd3786"
            ],
            [
             0.5555555555555556,
             "#d8576b"
            ],
            [
             0.6666666666666666,
             "#ed7953"
            ],
            [
             0.7777777777777778,
             "#fb9f3a"
            ],
            [
             0.8888888888888888,
             "#fdca26"
            ],
            [
             1,
             "#f0f921"
            ]
           ]
          },
          "colorway": [
           "#636efa",
           "#EF553B",
           "#00cc96",
           "#ab63fa",
           "#FFA15A",
           "#19d3f3",
           "#FF6692",
           "#B6E880",
           "#FF97FF",
           "#FECB52"
          ],
          "font": {
           "color": "#2a3f5f"
          },
          "geo": {
           "bgcolor": "white",
           "lakecolor": "white",
           "landcolor": "#E5ECF6",
           "showlakes": true,
           "showland": true,
           "subunitcolor": "white"
          },
          "hoverlabel": {
           "align": "left"
          },
          "hovermode": "closest",
          "mapbox": {
           "style": "light"
          },
          "paper_bgcolor": "white",
          "plot_bgcolor": "#E5ECF6",
          "polar": {
           "angularaxis": {
            "gridcolor": "white",
            "linecolor": "white",
            "ticks": ""
           },
           "bgcolor": "#E5ECF6",
           "radialaxis": {
            "gridcolor": "white",
            "linecolor": "white",
            "ticks": ""
           }
          },
          "scene": {
           "xaxis": {
            "backgroundcolor": "#E5ECF6",
            "gridcolor": "white",
            "gridwidth": 2,
            "linecolor": "white",
            "showbackground": true,
            "ticks": "",
            "zerolinecolor": "white"
           },
           "yaxis": {
            "backgroundcolor": "#E5ECF6",
            "gridcolor": "white",
            "gridwidth": 2,
            "linecolor": "white",
            "showbackground": true,
            "ticks": "",
            "zerolinecolor": "white"
           },
           "zaxis": {
            "backgroundcolor": "#E5ECF6",
            "gridcolor": "white",
            "gridwidth": 2,
            "linecolor": "white",
            "showbackground": true,
            "ticks": "",
            "zerolinecolor": "white"
           }
          },
          "shapedefaults": {
           "line": {
            "color": "#2a3f5f"
           }
          },
          "ternary": {
           "aaxis": {
            "gridcolor": "white",
            "linecolor": "white",
            "ticks": ""
           },
           "baxis": {
            "gridcolor": "white",
            "linecolor": "white",
            "ticks": ""
           },
           "bgcolor": "#E5ECF6",
           "caxis": {
            "gridcolor": "white",
            "linecolor": "white",
            "ticks": ""
           }
          },
          "title": {
           "x": 0.05
          },
          "xaxis": {
           "automargin": true,
           "gridcolor": "white",
           "linecolor": "white",
           "ticks": "",
           "title": {
            "standoff": 15
           },
           "zerolinecolor": "white",
           "zerolinewidth": 2
          },
          "yaxis": {
           "automargin": true,
           "gridcolor": "white",
           "linecolor": "white",
           "ticks": "",
           "title": {
            "standoff": 15
           },
           "zerolinecolor": "white",
           "zerolinewidth": 2
          }
         }
        }
       }
      }
     },
     "metadata": {},
     "output_type": "display_data"
    }
   ],
   "source": [
    "fig2 = go.Figure(data=[go.Pie(labels=df.acao_realizada.value_counts().index, \n",
    "                              values=df.acao_realizada.value_counts().values, textinfo='percent',\n",
    "                             hole=.3\n",
    "                            )])\n",
    "fig2.show()"
   ]
  },
  {
   "cell_type": "code",
   "execution_count": 9,
   "metadata": {},
   "outputs": [
    {
     "data": {
      "text/html": [
       "<div>\n",
       "<style scoped>\n",
       "    .dataframe tbody tr th:only-of-type {\n",
       "        vertical-align: middle;\n",
       "    }\n",
       "\n",
       "    .dataframe tbody tr th {\n",
       "        vertical-align: top;\n",
       "    }\n",
       "\n",
       "    .dataframe thead th {\n",
       "        text-align: right;\n",
       "    }\n",
       "</style>\n",
       "<table border=\"1\" class=\"dataframe\">\n",
       "  <thead>\n",
       "    <tr style=\"text-align: right;\">\n",
       "      <th></th>\n",
       "      <th>id</th>\n",
       "      <th>user_id</th>\n",
       "      <th>acao_realizada</th>\n",
       "      <th>caracteristica_acao</th>\n",
       "      <th>n_profissionais_atendidos</th>\n",
       "      <th>descricao_acao</th>\n",
       "      <th>data_acao</th>\n",
       "      <th>data_publicacao</th>\n",
       "      <th>municipio_atendido</th>\n",
       "      <th>n_mes_acao</th>\n",
       "      <th>mes_acao</th>\n",
       "      <th>ano_acao</th>\n",
       "    </tr>\n",
       "  </thead>\n",
       "  <tbody>\n",
       "    <tr>\n",
       "      <th>0</th>\n",
       "      <td>3523</td>\n",
       "      <td>26</td>\n",
       "      <td>Apoio Técnico Não Presencial (ATNP)</td>\n",
       "      <td>E-mails, telefonemas e mensagens</td>\n",
       "      <td>1</td>\n",
       "      <td>Censo SUAS - Orientação a CEAS quanto ao preen...</td>\n",
       "      <td>2022-12-12</td>\n",
       "      <td>2022-12-27</td>\n",
       "      <td>*Não se aplica</td>\n",
       "      <td>12</td>\n",
       "      <td>Dez</td>\n",
       "      <td>2022</td>\n",
       "    </tr>\n",
       "    <tr>\n",
       "      <th>1</th>\n",
       "      <td>3524</td>\n",
       "      <td>26</td>\n",
       "      <td>Apoio Técnico Não Presencial (ATNP)</td>\n",
       "      <td>E-mails, telefonemas e mensagens</td>\n",
       "      <td>1</td>\n",
       "      <td>PLANO DE AÇÃO - CORREÇÃO DE INFORMAÇÃO PELA GE...</td>\n",
       "      <td>2022-12-07</td>\n",
       "      <td>2022-12-27</td>\n",
       "      <td>Vera</td>\n",
       "      <td>12</td>\n",
       "      <td>Dez</td>\n",
       "      <td>2022</td>\n",
       "    </tr>\n",
       "  </tbody>\n",
       "</table>\n",
       "</div>"
      ],
      "text/plain": [
       "     id  user_id                       acao_realizada  \\\n",
       "0  3523       26  Apoio Técnico Não Presencial (ATNP)   \n",
       "1  3524       26  Apoio Técnico Não Presencial (ATNP)   \n",
       "\n",
       "                caracteristica_acao  n_profissionais_atendidos  \\\n",
       "0  E-mails, telefonemas e mensagens                          1   \n",
       "1  E-mails, telefonemas e mensagens                          1   \n",
       "\n",
       "                                      descricao_acao  data_acao  \\\n",
       "0  Censo SUAS - Orientação a CEAS quanto ao preen... 2022-12-12   \n",
       "1  PLANO DE AÇÃO - CORREÇÃO DE INFORMAÇÃO PELA GE... 2022-12-07   \n",
       "\n",
       "  data_publicacao municipio_atendido  n_mes_acao mes_acao  ano_acao  \n",
       "0      2022-12-27     *Não se aplica          12      Dez      2022  \n",
       "1      2022-12-27               Vera          12      Dez      2022  "
      ]
     },
     "execution_count": 9,
     "metadata": {},
     "output_type": "execute_result"
    }
   ],
   "source": [
    "df.head(2)"
   ]
  },
  {
   "cell_type": "code",
   "execution_count": 224,
   "metadata": {},
   "outputs": [
    {
     "data": {
      "text/html": [
       "<div>\n",
       "<style scoped>\n",
       "    .dataframe tbody tr th:only-of-type {\n",
       "        vertical-align: middle;\n",
       "    }\n",
       "\n",
       "    .dataframe tbody tr th {\n",
       "        vertical-align: top;\n",
       "    }\n",
       "\n",
       "    .dataframe thead th {\n",
       "        text-align: right;\n",
       "    }\n",
       "</style>\n",
       "<table border=\"1\" class=\"dataframe\">\n",
       "  <thead>\n",
       "    <tr style=\"text-align: right;\">\n",
       "      <th></th>\n",
       "      <th>Característica da Ação</th>\n",
       "      <th>Mar</th>\n",
       "      <th>Abr</th>\n",
       "      <th>Mai</th>\n",
       "      <th>Jun</th>\n",
       "      <th>Jul</th>\n",
       "      <th>Ago</th>\n",
       "      <th>Nov</th>\n",
       "    </tr>\n",
       "  </thead>\n",
       "  <tbody>\n",
       "    <tr>\n",
       "      <th>0</th>\n",
       "      <td>Apoio técnico individualizado na SAAS</td>\n",
       "      <td>1</td>\n",
       "      <td>2</td>\n",
       "      <td>2</td>\n",
       "      <td>2</td>\n",
       "      <td>1</td>\n",
       "      <td>1</td>\n",
       "      <td>1</td>\n",
       "    </tr>\n",
       "    <tr>\n",
       "      <th>1</th>\n",
       "      <td>Apoio técnico individualizado no município</td>\n",
       "      <td>0</td>\n",
       "      <td>0</td>\n",
       "      <td>0</td>\n",
       "      <td>0</td>\n",
       "      <td>1</td>\n",
       "      <td>0</td>\n",
       "      <td>0</td>\n",
       "    </tr>\n",
       "  </tbody>\n",
       "</table>\n",
       "</div>"
      ],
      "text/plain": [
       "                       Característica da Ação  Mar  Abr  Mai  Jun  Jul  Ago  \\\n",
       "0       Apoio técnico individualizado na SAAS    1    2    2    2    1    1   \n",
       "1  Apoio técnico individualizado no município    0    0    0    0    1    0   \n",
       "\n",
       "   Nov  \n",
       "0    1  \n",
       "1    0  "
      ]
     },
     "execution_count": 224,
     "metadata": {},
     "output_type": "execute_result"
    }
   ],
   "source": [
    "tab1 = df.loc[df['acao_realizada']=='Apoio Técnico Presencial (ATP)'].groupby(['caracteristica_acao','n_mes_acao']).size().unstack().reset_index().rename_axis(None,axis=1).fillna(0)\n",
    "dic_group_mes = {'caracteristica_acao':'Característica da Ação',1:'Jan',2:'Fev',3:'Mar',4:'Abr',5:'Mai',6:'Jun',7:'Jul',8:'Ago',9:'Set',10:'Out',11:'Nov',12:'Dez'}\n",
    "tab1.columns = tab1.columns.map(dic_group_mes)\n",
    "tab1.iloc[:,1:] = tab1.iloc[:,1:].astype(int)\n",
    "tab1"
   ]
  },
  {
   "cell_type": "code",
   "execution_count": 229,
   "metadata": {},
   "outputs": [
    {
     "name": "stdout",
     "output_type": "stream",
     "text": [
      "Característica da Ação {0: 'Apoio técnico individualizado na SAAS', 1: 'Apoio técnico individualizado no município'}\n",
      "Mar {0: 1, 1: 0}\n",
      "Abr {0: 2, 1: 0}\n",
      "Mai {0: 2, 1: 0}\n",
      "Jun {0: 2, 1: 0}\n",
      "Jul {0: 1, 1: 1}\n",
      "Ago {0: 1, 1: 0}\n",
      "Nov {0: 1, 1: 0}\n"
     ]
    }
   ],
   "source": [
    "tab1_json = tab1.to_dict()\n",
    "for k,v in tab1_json.items():\n",
    "    print(k,v)"
   ]
  },
  {
   "cell_type": "code",
   "execution_count": null,
   "metadata": {},
   "outputs": [],
   "source": []
  },
  {
   "cell_type": "code",
   "execution_count": 91,
   "metadata": {},
   "outputs": [
    {
     "data": {
      "text/html": [
       "<div>\n",
       "<style scoped>\n",
       "    .dataframe tbody tr th:only-of-type {\n",
       "        vertical-align: middle;\n",
       "    }\n",
       "\n",
       "    .dataframe tbody tr th {\n",
       "        vertical-align: top;\n",
       "    }\n",
       "\n",
       "    .dataframe thead th {\n",
       "        text-align: right;\n",
       "    }\n",
       "</style>\n",
       "<table border=\"1\" class=\"dataframe\">\n",
       "  <thead>\n",
       "    <tr style=\"text-align: right;\">\n",
       "      <th></th>\n",
       "      <th>Característica da Ação</th>\n",
       "      <th>Jan</th>\n",
       "      <th>Fev</th>\n",
       "      <th>Mar</th>\n",
       "      <th>Abr</th>\n",
       "      <th>Mai</th>\n",
       "      <th>Jun</th>\n",
       "      <th>Jul</th>\n",
       "      <th>Ago</th>\n",
       "      <th>Set</th>\n",
       "      <th>Out</th>\n",
       "      <th>Nov</th>\n",
       "      <th>Dez</th>\n",
       "    </tr>\n",
       "  </thead>\n",
       "  <tbody>\n",
       "    <tr>\n",
       "      <th>0</th>\n",
       "      <td>E-mails, telefonemas e mensagens</td>\n",
       "      <td>7</td>\n",
       "      <td>3</td>\n",
       "      <td>6</td>\n",
       "      <td>0</td>\n",
       "      <td>1</td>\n",
       "      <td>0</td>\n",
       "      <td>1</td>\n",
       "      <td>2</td>\n",
       "      <td>0</td>\n",
       "      <td>11</td>\n",
       "      <td>30</td>\n",
       "      <td>3</td>\n",
       "    </tr>\n",
       "    <tr>\n",
       "      <th>1</th>\n",
       "      <td>Normas, orientações técnicas e materiais infor...</td>\n",
       "      <td>0</td>\n",
       "      <td>2</td>\n",
       "      <td>1</td>\n",
       "      <td>0</td>\n",
       "      <td>0</td>\n",
       "      <td>0</td>\n",
       "      <td>1</td>\n",
       "      <td>2</td>\n",
       "      <td>2</td>\n",
       "      <td>0</td>\n",
       "      <td>0</td>\n",
       "      <td>0</td>\n",
       "    </tr>\n",
       "    <tr>\n",
       "      <th>2</th>\n",
       "      <td>Videoconferências e transmissões ao vivo</td>\n",
       "      <td>0</td>\n",
       "      <td>0</td>\n",
       "      <td>2</td>\n",
       "      <td>5</td>\n",
       "      <td>8</td>\n",
       "      <td>3</td>\n",
       "      <td>1</td>\n",
       "      <td>2</td>\n",
       "      <td>0</td>\n",
       "      <td>0</td>\n",
       "      <td>0</td>\n",
       "      <td>0</td>\n",
       "    </tr>\n",
       "    <tr>\n",
       "      <th>3</th>\n",
       "      <td>vazio</td>\n",
       "      <td>0</td>\n",
       "      <td>0</td>\n",
       "      <td>0</td>\n",
       "      <td>0</td>\n",
       "      <td>0</td>\n",
       "      <td>0</td>\n",
       "      <td>0</td>\n",
       "      <td>0</td>\n",
       "      <td>0</td>\n",
       "      <td>0</td>\n",
       "      <td>1</td>\n",
       "      <td>0</td>\n",
       "    </tr>\n",
       "  </tbody>\n",
       "</table>\n",
       "</div>"
      ],
      "text/plain": [
       "                              Característica da Ação  Jan  Fev  Mar  Abr  Mai  \\\n",
       "0                   E-mails, telefonemas e mensagens    7    3    6    0    1   \n",
       "1  Normas, orientações técnicas e materiais infor...    0    2    1    0    0   \n",
       "2           Videoconferências e transmissões ao vivo    0    0    2    5    8   \n",
       "3                                              vazio    0    0    0    0    0   \n",
       "\n",
       "   Jun  Jul  Ago  Set  Out  Nov  Dez  \n",
       "0    0    1    2    0   11   30    3  \n",
       "1    0    1    2    2    0    0    0  \n",
       "2    3    1    2    0    0    0    0  \n",
       "3    0    0    0    0    0    1    0  "
      ]
     },
     "execution_count": 91,
     "metadata": {},
     "output_type": "execute_result"
    }
   ],
   "source": [
    "tab2 = df.loc[df['acao_realizada']=='Apoio Técnico Não Presencial (ATNP)'].groupby(['caracteristica_acao','n_mes_acao']).size().unstack().reset_index().rename_axis(None,axis=1).fillna(0)\n",
    "dic_group_mes = {'caracteristica_acao':'Característica da Ação',1:'Jan',2:'Fev',3:'Mar',4:'Abr',5:'Mai',6:'Jun',7:'Jul',8:'Ago',9:'Set',10:'Out',11:'Nov',12:'Dez'}\n",
    "tab2.columns = tab2.columns.map(dic_group_mes)\n",
    "tab2.iloc[:,1:] = tab2.iloc[:,1:].astype(int)\n",
    "tab2"
   ]
  },
  {
   "cell_type": "code",
   "execution_count": null,
   "metadata": {},
   "outputs": [],
   "source": [
    "tab2 = df.loc[df['acao_realizada']=='Apoio Técnico Não Presencial (ATNP)'].groupby(['caracteristica_acao','n_mes_acao']).size().unstack().reset_index().rename_axis(None,axis=1).fillna(0)\n",
    "dic_group_mes = {'caracteristica_acao':'Característica da Ação',1:'Jan',2:'Fev',3:'Mar',4:'Abr',5:'Mai',6:'Jun',7:'Jul',8:'Ago',9:'Set',10:'Out',11:'Nov',12:'Dez'}\n",
    "tab2.columns = tab2.columns.map(dic_group_mes)\n",
    "tab2.iloc[:,1:] = tab2.iloc[:,1:].astype(int)\n",
    "tab2"
   ]
  },
  {
   "cell_type": "code",
   "execution_count": 217,
   "metadata": {},
   "outputs": [],
   "source": [
    "tab1={}\n",
    "tab2={}\n",
    "tab3={}\n",
    "listTab=[tab1,tab2,tab3]\n",
    "n=0\n",
    "for acao in df.acao_realizada.unique():\n",
    "    # print(n,acao)\n",
    "    # print(listTab[n])\n",
    "    data = df.loc[df['acao_realizada']==acao].groupby(['caracteristica_acao','n_mes_acao']).size().unstack().reset_index().rename_axis(None,axis=1).fillna(0)\n",
    "    dic_group_mes = {'caracteristica_acao':'Característica da Ação',1:'Jan',2:'Fev',3:'Mar',4:'Abr',5:'Mai',6:'Jun',7:'Jul',8:'Ago',9:'Set',10:'Out',11:'Nov',12:'Dez'}\n",
    "    data.columns = data.columns.map(dic_group_mes)\n",
    "    data.iloc[:,1:] = data.iloc[:,1:].astype(int)\n",
    "    listTab[n] = pd.DataFrame(data)\n",
    "    n = n+1"
   ]
  },
  {
   "cell_type": "code",
   "execution_count": 218,
   "metadata": {},
   "outputs": [
    {
     "data": {
      "text/plain": [
       "{}"
      ]
     },
     "execution_count": 218,
     "metadata": {},
     "output_type": "execute_result"
    }
   ],
   "source": [
    "tab1\n"
   ]
  },
  {
   "cell_type": "code",
   "execution_count": 201,
   "metadata": {},
   "outputs": [
    {
     "data": {
      "text/plain": [
       "''"
      ]
     },
     "execution_count": 201,
     "metadata": {},
     "output_type": "execute_result"
    }
   ],
   "source": [
    "tab1\n"
   ]
  },
  {
   "cell_type": "code",
   "execution_count": null,
   "metadata": {},
   "outputs": [],
   "source": []
  },
  {
   "cell_type": "code",
   "execution_count": 185,
   "metadata": {},
   "outputs": [
    {
     "data": {
      "text/html": [
       "<div>\n",
       "<style scoped>\n",
       "    .dataframe tbody tr th:only-of-type {\n",
       "        vertical-align: middle;\n",
       "    }\n",
       "\n",
       "    .dataframe tbody tr th {\n",
       "        vertical-align: top;\n",
       "    }\n",
       "\n",
       "    .dataframe thead th {\n",
       "        text-align: right;\n",
       "    }\n",
       "</style>\n",
       "<table border=\"1\" class=\"dataframe\">\n",
       "  <thead>\n",
       "    <tr style=\"text-align: right;\">\n",
       "      <th></th>\n",
       "      <th>n_mes_acao</th>\n",
       "      <th>Jan</th>\n",
       "      <th>Fev</th>\n",
       "      <th>Mar</th>\n",
       "      <th>Abr</th>\n",
       "      <th>Mai</th>\n",
       "      <th>Jun</th>\n",
       "      <th>Jul</th>\n",
       "      <th>Ago</th>\n",
       "      <th>Set</th>\n",
       "      <th>Out</th>\n",
       "      <th>Nov</th>\n",
       "      <th>Dez</th>\n",
       "    </tr>\n",
       "    <tr>\n",
       "      <th>acao_realizada</th>\n",
       "      <th>caracteristica_acao</th>\n",
       "      <th></th>\n",
       "      <th></th>\n",
       "      <th></th>\n",
       "      <th></th>\n",
       "      <th></th>\n",
       "      <th></th>\n",
       "      <th></th>\n",
       "      <th></th>\n",
       "      <th></th>\n",
       "      <th></th>\n",
       "      <th></th>\n",
       "      <th></th>\n",
       "    </tr>\n",
       "  </thead>\n",
       "  <tbody>\n",
       "    <tr>\n",
       "      <th rowspan=\"4\" valign=\"top\">Apoio Técnico Não Presencial (ATNP)</th>\n",
       "      <th>E-mails, telefonemas e mensagens</th>\n",
       "      <td>7.0</td>\n",
       "      <td>3.0</td>\n",
       "      <td>6.0</td>\n",
       "      <td>0.0</td>\n",
       "      <td>1.0</td>\n",
       "      <td>0.0</td>\n",
       "      <td>1.0</td>\n",
       "      <td>2.0</td>\n",
       "      <td>0.0</td>\n",
       "      <td>11.0</td>\n",
       "      <td>30.0</td>\n",
       "      <td>3.0</td>\n",
       "    </tr>\n",
       "    <tr>\n",
       "      <th>Normas, orientações técnicas e materiais informativos</th>\n",
       "      <td>0.0</td>\n",
       "      <td>2.0</td>\n",
       "      <td>1.0</td>\n",
       "      <td>0.0</td>\n",
       "      <td>0.0</td>\n",
       "      <td>0.0</td>\n",
       "      <td>1.0</td>\n",
       "      <td>2.0</td>\n",
       "      <td>2.0</td>\n",
       "      <td>0.0</td>\n",
       "      <td>0.0</td>\n",
       "      <td>0.0</td>\n",
       "    </tr>\n",
       "    <tr>\n",
       "      <th>Videoconferências e transmissões ao vivo</th>\n",
       "      <td>0.0</td>\n",
       "      <td>0.0</td>\n",
       "      <td>2.0</td>\n",
       "      <td>5.0</td>\n",
       "      <td>8.0</td>\n",
       "      <td>3.0</td>\n",
       "      <td>1.0</td>\n",
       "      <td>2.0</td>\n",
       "      <td>0.0</td>\n",
       "      <td>0.0</td>\n",
       "      <td>0.0</td>\n",
       "      <td>0.0</td>\n",
       "    </tr>\n",
       "    <tr>\n",
       "      <th>vazio</th>\n",
       "      <td>0.0</td>\n",
       "      <td>0.0</td>\n",
       "      <td>0.0</td>\n",
       "      <td>0.0</td>\n",
       "      <td>0.0</td>\n",
       "      <td>0.0</td>\n",
       "      <td>0.0</td>\n",
       "      <td>0.0</td>\n",
       "      <td>0.0</td>\n",
       "      <td>0.0</td>\n",
       "      <td>1.0</td>\n",
       "      <td>0.0</td>\n",
       "    </tr>\n",
       "    <tr>\n",
       "      <th rowspan=\"2\" valign=\"top\">Apoio Técnico Presencial (ATP)</th>\n",
       "      <th>Apoio técnico individualizado na SAAS</th>\n",
       "      <td>0.0</td>\n",
       "      <td>0.0</td>\n",
       "      <td>1.0</td>\n",
       "      <td>2.0</td>\n",
       "      <td>2.0</td>\n",
       "      <td>2.0</td>\n",
       "      <td>1.0</td>\n",
       "      <td>1.0</td>\n",
       "      <td>0.0</td>\n",
       "      <td>0.0</td>\n",
       "      <td>1.0</td>\n",
       "      <td>0.0</td>\n",
       "    </tr>\n",
       "    <tr>\n",
       "      <th>Apoio técnico individualizado no município</th>\n",
       "      <td>0.0</td>\n",
       "      <td>0.0</td>\n",
       "      <td>0.0</td>\n",
       "      <td>0.0</td>\n",
       "      <td>0.0</td>\n",
       "      <td>0.0</td>\n",
       "      <td>1.0</td>\n",
       "      <td>0.0</td>\n",
       "      <td>0.0</td>\n",
       "      <td>0.0</td>\n",
       "      <td>0.0</td>\n",
       "      <td>0.0</td>\n",
       "    </tr>\n",
       "    <tr>\n",
       "      <th>Outras Ações</th>\n",
       "      <th>Manifestação Técnica</th>\n",
       "      <td>0.0</td>\n",
       "      <td>0.0</td>\n",
       "      <td>0.0</td>\n",
       "      <td>0.0</td>\n",
       "      <td>0.0</td>\n",
       "      <td>0.0</td>\n",
       "      <td>0.0</td>\n",
       "      <td>1.0</td>\n",
       "      <td>0.0</td>\n",
       "      <td>0.0</td>\n",
       "      <td>0.0</td>\n",
       "      <td>0.0</td>\n",
       "    </tr>\n",
       "  </tbody>\n",
       "</table>\n",
       "</div>"
      ],
      "text/plain": [
       "n_mes_acao                                                                              Jan  \\\n",
       "acao_realizada                      caracteristica_acao                                       \n",
       "Apoio Técnico Não Presencial (ATNP) E-mails, telefonemas e mensagens                    7.0   \n",
       "                                    Normas, orientações técnicas e materiais inform...  0.0   \n",
       "                                    Videoconferências e transmissões ao vivo            0.0   \n",
       "                                    vazio                                               0.0   \n",
       "Apoio Técnico Presencial (ATP)      Apoio técnico individualizado na SAAS               0.0   \n",
       "                                    Apoio técnico individualizado no município          0.0   \n",
       "Outras Ações                        Manifestação Técnica                                0.0   \n",
       "\n",
       "n_mes_acao                                                                              Fev  \\\n",
       "acao_realizada                      caracteristica_acao                                       \n",
       "Apoio Técnico Não Presencial (ATNP) E-mails, telefonemas e mensagens                    3.0   \n",
       "                                    Normas, orientações técnicas e materiais inform...  2.0   \n",
       "                                    Videoconferências e transmissões ao vivo            0.0   \n",
       "                                    vazio                                               0.0   \n",
       "Apoio Técnico Presencial (ATP)      Apoio técnico individualizado na SAAS               0.0   \n",
       "                                    Apoio técnico individualizado no município          0.0   \n",
       "Outras Ações                        Manifestação Técnica                                0.0   \n",
       "\n",
       "n_mes_acao                                                                              Mar  \\\n",
       "acao_realizada                      caracteristica_acao                                       \n",
       "Apoio Técnico Não Presencial (ATNP) E-mails, telefonemas e mensagens                    6.0   \n",
       "                                    Normas, orientações técnicas e materiais inform...  1.0   \n",
       "                                    Videoconferências e transmissões ao vivo            2.0   \n",
       "                                    vazio                                               0.0   \n",
       "Apoio Técnico Presencial (ATP)      Apoio técnico individualizado na SAAS               1.0   \n",
       "                                    Apoio técnico individualizado no município          0.0   \n",
       "Outras Ações                        Manifestação Técnica                                0.0   \n",
       "\n",
       "n_mes_acao                                                                              Abr  \\\n",
       "acao_realizada                      caracteristica_acao                                       \n",
       "Apoio Técnico Não Presencial (ATNP) E-mails, telefonemas e mensagens                    0.0   \n",
       "                                    Normas, orientações técnicas e materiais inform...  0.0   \n",
       "                                    Videoconferências e transmissões ao vivo            5.0   \n",
       "                                    vazio                                               0.0   \n",
       "Apoio Técnico Presencial (ATP)      Apoio técnico individualizado na SAAS               2.0   \n",
       "                                    Apoio técnico individualizado no município          0.0   \n",
       "Outras Ações                        Manifestação Técnica                                0.0   \n",
       "\n",
       "n_mes_acao                                                                              Mai  \\\n",
       "acao_realizada                      caracteristica_acao                                       \n",
       "Apoio Técnico Não Presencial (ATNP) E-mails, telefonemas e mensagens                    1.0   \n",
       "                                    Normas, orientações técnicas e materiais inform...  0.0   \n",
       "                                    Videoconferências e transmissões ao vivo            8.0   \n",
       "                                    vazio                                               0.0   \n",
       "Apoio Técnico Presencial (ATP)      Apoio técnico individualizado na SAAS               2.0   \n",
       "                                    Apoio técnico individualizado no município          0.0   \n",
       "Outras Ações                        Manifestação Técnica                                0.0   \n",
       "\n",
       "n_mes_acao                                                                              Jun  \\\n",
       "acao_realizada                      caracteristica_acao                                       \n",
       "Apoio Técnico Não Presencial (ATNP) E-mails, telefonemas e mensagens                    0.0   \n",
       "                                    Normas, orientações técnicas e materiais inform...  0.0   \n",
       "                                    Videoconferências e transmissões ao vivo            3.0   \n",
       "                                    vazio                                               0.0   \n",
       "Apoio Técnico Presencial (ATP)      Apoio técnico individualizado na SAAS               2.0   \n",
       "                                    Apoio técnico individualizado no município          0.0   \n",
       "Outras Ações                        Manifestação Técnica                                0.0   \n",
       "\n",
       "n_mes_acao                                                                              Jul  \\\n",
       "acao_realizada                      caracteristica_acao                                       \n",
       "Apoio Técnico Não Presencial (ATNP) E-mails, telefonemas e mensagens                    1.0   \n",
       "                                    Normas, orientações técnicas e materiais inform...  1.0   \n",
       "                                    Videoconferências e transmissões ao vivo            1.0   \n",
       "                                    vazio                                               0.0   \n",
       "Apoio Técnico Presencial (ATP)      Apoio técnico individualizado na SAAS               1.0   \n",
       "                                    Apoio técnico individualizado no município          1.0   \n",
       "Outras Ações                        Manifestação Técnica                                0.0   \n",
       "\n",
       "n_mes_acao                                                                              Ago  \\\n",
       "acao_realizada                      caracteristica_acao                                       \n",
       "Apoio Técnico Não Presencial (ATNP) E-mails, telefonemas e mensagens                    2.0   \n",
       "                                    Normas, orientações técnicas e materiais inform...  2.0   \n",
       "                                    Videoconferências e transmissões ao vivo            2.0   \n",
       "                                    vazio                                               0.0   \n",
       "Apoio Técnico Presencial (ATP)      Apoio técnico individualizado na SAAS               1.0   \n",
       "                                    Apoio técnico individualizado no município          0.0   \n",
       "Outras Ações                        Manifestação Técnica                                1.0   \n",
       "\n",
       "n_mes_acao                                                                              Set  \\\n",
       "acao_realizada                      caracteristica_acao                                       \n",
       "Apoio Técnico Não Presencial (ATNP) E-mails, telefonemas e mensagens                    0.0   \n",
       "                                    Normas, orientações técnicas e materiais inform...  2.0   \n",
       "                                    Videoconferências e transmissões ao vivo            0.0   \n",
       "                                    vazio                                               0.0   \n",
       "Apoio Técnico Presencial (ATP)      Apoio técnico individualizado na SAAS               0.0   \n",
       "                                    Apoio técnico individualizado no município          0.0   \n",
       "Outras Ações                        Manifestação Técnica                                0.0   \n",
       "\n",
       "n_mes_acao                                                                               Out  \\\n",
       "acao_realizada                      caracteristica_acao                                        \n",
       "Apoio Técnico Não Presencial (ATNP) E-mails, telefonemas e mensagens                    11.0   \n",
       "                                    Normas, orientações técnicas e materiais inform...   0.0   \n",
       "                                    Videoconferências e transmissões ao vivo             0.0   \n",
       "                                    vazio                                                0.0   \n",
       "Apoio Técnico Presencial (ATP)      Apoio técnico individualizado na SAAS                0.0   \n",
       "                                    Apoio técnico individualizado no município           0.0   \n",
       "Outras Ações                        Manifestação Técnica                                 0.0   \n",
       "\n",
       "n_mes_acao                                                                               Nov  \\\n",
       "acao_realizada                      caracteristica_acao                                        \n",
       "Apoio Técnico Não Presencial (ATNP) E-mails, telefonemas e mensagens                    30.0   \n",
       "                                    Normas, orientações técnicas e materiais inform...   0.0   \n",
       "                                    Videoconferências e transmissões ao vivo             0.0   \n",
       "                                    vazio                                                1.0   \n",
       "Apoio Técnico Presencial (ATP)      Apoio técnico individualizado na SAAS                1.0   \n",
       "                                    Apoio técnico individualizado no município           0.0   \n",
       "Outras Ações                        Manifestação Técnica                                 0.0   \n",
       "\n",
       "n_mes_acao                                                                              Dez  \n",
       "acao_realizada                      caracteristica_acao                                      \n",
       "Apoio Técnico Não Presencial (ATNP) E-mails, telefonemas e mensagens                    3.0  \n",
       "                                    Normas, orientações técnicas e materiais inform...  0.0  \n",
       "                                    Videoconferências e transmissões ao vivo            0.0  \n",
       "                                    vazio                                               0.0  \n",
       "Apoio Técnico Presencial (ATP)      Apoio técnico individualizado na SAAS               0.0  \n",
       "                                    Apoio técnico individualizado no município          0.0  \n",
       "Outras Ações                        Manifestação Técnica                                0.0  "
      ]
     },
     "execution_count": 185,
     "metadata": {},
     "output_type": "execute_result"
    }
   ],
   "source": [
    "tab = df.groupby(['acao_realizada','caracteristica_acao','n_mes_acao']).size().unstack(2).fillna(0)\n",
    "dic_group_mes = {'caracteristica_acao':'Característica da Ação',1:'Jan',2:'Fev',3:'Mar',4:'Abr',5:'Mai',6:'Jun',7:'Jul',8:'Ago',9:'Set',10:'Out',11:'Nov',12:'Dez'}\n",
    "tab.columns = tab.columns.map(dic_group_mes)\n",
    "# tab.iloc[:,1:] = tab.iloc[:,1:].astype(int)\n",
    "tab"
   ]
  },
  {
   "cell_type": "code",
   "execution_count": 216,
   "metadata": {},
   "outputs": [
    {
     "ename": "AttributeError",
     "evalue": "'dict' object has no attribute 'reset_index'",
     "output_type": "error",
     "traceback": [
      "\u001b[0;31m---------------------------------------------------------------------------\u001b[0m",
      "\u001b[0;31mAttributeError\u001b[0m                            Traceback (most recent call last)",
      "\u001b[0;32m<ipython-input-216-c2cc2bace4c0>\u001b[0m in \u001b[0;36m<module>\u001b[0;34m\u001b[0m\n\u001b[0;32m----> 1\u001b[0;31m \u001b[0mtab1\u001b[0m\u001b[0;34m.\u001b[0m\u001b[0mreset_index\u001b[0m\u001b[0;34m(\u001b[0m\u001b[0;34m)\u001b[0m\u001b[0;34m.\u001b[0m\u001b[0mT\u001b[0m\u001b[0;34m\u001b[0m\u001b[0;34m\u001b[0m\u001b[0m\n\u001b[0m",
      "\u001b[0;31mAttributeError\u001b[0m: 'dict' object has no attribute 'reset_index'"
     ]
    }
   ],
   "source": [
    "tab.reset_index().T"
   ]
  },
  {
   "cell_type": "code",
   "execution_count": null,
   "metadata": {},
   "outputs": [],
   "source": []
  }
 ],
 "metadata": {
  "kernelspec": {
   "display_name": "base",
   "language": "python",
   "name": "python3"
  },
  "language_info": {
   "codemirror_mode": {
    "name": "ipython",
    "version": 3
   },
   "file_extension": ".py",
   "mimetype": "text/x-python",
   "name": "python",
   "nbconvert_exporter": "python",
   "pygments_lexer": "ipython3",
   "version": "3.8.5"
  },
  "orig_nbformat": 4,
  "vscode": {
   "interpreter": {
    "hash": "40d3a090f54c6569ab1632332b64b2c03c39dcf918b08424e98f38b5ae0af88f"
   }
  }
 },
 "nbformat": 4,
 "nbformat_minor": 2
}
